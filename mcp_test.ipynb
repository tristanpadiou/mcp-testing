{
 "cells": [
  {
   "cell_type": "code",
   "execution_count": 1,
   "metadata": {},
   "outputs": [],
   "source": [
    "from pydantic_ai import Agent\n",
    "from pydantic_ai.mcp import MCPServerStdio\n",
    "from pydantic_ai import RunContext\n",
    "from pydantic_ai.providers.google_gla import GoogleGLAProvider\n",
    "from pydantic_ai.models.gemini import GeminiModel\n",
    "from dotenv import load_dotenv\n",
    "import os\n",
    "\n",
    "\n",
    "load_dotenv()\n",
    "\n",
    "google_api_key=os.getenv('google_api_key')\n",
    "\n",
    "llm=GeminiModel('gemini-2.0-flash', provider=GoogleGLAProvider(api_key=google_api_key))\n"
   ]
  },
  {
   "cell_type": "code",
   "execution_count": 2,
   "metadata": {},
   "outputs": [],
   "source": [
    "server = MCPServerStdio('python', [ '-m','mcp_server_time',\"--local-timezone=America/New_York\"])  \n"
   ]
  },
  {
   "cell_type": "code",
   "execution_count": 9,
   "metadata": {},
   "outputs": [
    {
     "name": "stderr",
     "output_type": "stream",
     "text": [
      "c:\\Users\\trist\\OneDrive\\Desktop\\important\\ai_portfolio\\Cortana\\.venv\\Lib\\site-packages\\pygments\\regexopt.py:78: RuntimeWarning: coroutine 'TestAgent.chat' was never awaited\n",
      "  for group in groupby(strings, lambda s: s[0] == first[0])) \\\n",
      "RuntimeWarning: Enable tracemalloc to get the object allocation traceback\n"
     ]
    },
    {
     "ename": "NotImplementedError",
     "evalue": "",
     "output_type": "error",
     "traceback": [
      "\u001b[1;31m---------------------------------------------------------------------------\u001b[0m",
      "\u001b[1;31mNotImplementedError\u001b[0m                       Traceback (most recent call last)",
      "File \u001b[1;32mc:\\Users\\trist\\OneDrive\\Desktop\\important\\ai_portfolio\\Cortana\\.venv\\Lib\\site-packages\\mcp\\client\\stdio\\win32.py:72\u001b[0m, in \u001b[0;36mcreate_windows_process\u001b[1;34m(command, args, env, errlog, cwd)\u001b[0m\n\u001b[0;32m     70\u001b[0m \u001b[38;5;28;01mtry\u001b[39;00m:\n\u001b[0;32m     71\u001b[0m     \u001b[38;5;66;03m# Try with Windows-specific flags to hide console window\u001b[39;00m\n\u001b[1;32m---> 72\u001b[0m     process \u001b[38;5;241m=\u001b[39m \u001b[38;5;28;01mawait\u001b[39;00m anyio\u001b[38;5;241m.\u001b[39mopen_process(\n\u001b[0;32m     73\u001b[0m         [command, \u001b[38;5;241m*\u001b[39margs],\n\u001b[0;32m     74\u001b[0m         env\u001b[38;5;241m=\u001b[39menv,\n\u001b[0;32m     75\u001b[0m         \u001b[38;5;66;03m# Ensure we don't create console windows for each process\u001b[39;00m\n\u001b[0;32m     76\u001b[0m         creationflags\u001b[38;5;241m=\u001b[39msubprocess\u001b[38;5;241m.\u001b[39mCREATE_NO_WINDOW  \u001b[38;5;66;03m# type: ignore\u001b[39;00m\n\u001b[0;32m     77\u001b[0m         \u001b[38;5;28;01mif\u001b[39;00m \u001b[38;5;28mhasattr\u001b[39m(subprocess, \u001b[38;5;124m\"\u001b[39m\u001b[38;5;124mCREATE_NO_WINDOW\u001b[39m\u001b[38;5;124m\"\u001b[39m)\n\u001b[0;32m     78\u001b[0m         \u001b[38;5;28;01melse\u001b[39;00m \u001b[38;5;241m0\u001b[39m,\n\u001b[0;32m     79\u001b[0m         stderr\u001b[38;5;241m=\u001b[39merrlog,\n\u001b[0;32m     80\u001b[0m         cwd\u001b[38;5;241m=\u001b[39mcwd,\n\u001b[0;32m     81\u001b[0m     )\n\u001b[0;32m     82\u001b[0m     \u001b[38;5;28;01mreturn\u001b[39;00m process\n",
      "File \u001b[1;32mc:\\Users\\trist\\OneDrive\\Desktop\\important\\ai_portfolio\\Cortana\\.venv\\Lib\\site-packages\\anyio\\_core\\_subprocesses.py:190\u001b[0m, in \u001b[0;36mopen_process\u001b[1;34m(command, stdin, stdout, stderr, cwd, env, startupinfo, creationflags, start_new_session, pass_fds, user, group, extra_groups, umask)\u001b[0m\n\u001b[0;32m    188\u001b[0m     kwargs[\u001b[38;5;124m\"\u001b[39m\u001b[38;5;124mumask\u001b[39m\u001b[38;5;124m\"\u001b[39m] \u001b[38;5;241m=\u001b[39m umask\n\u001b[1;32m--> 190\u001b[0m \u001b[38;5;28;01mreturn\u001b[39;00m \u001b[38;5;28;01mawait\u001b[39;00m get_async_backend()\u001b[38;5;241m.\u001b[39mopen_process(\n\u001b[0;32m    191\u001b[0m     command,\n\u001b[0;32m    192\u001b[0m     stdin\u001b[38;5;241m=\u001b[39mstdin,\n\u001b[0;32m    193\u001b[0m     stdout\u001b[38;5;241m=\u001b[39mstdout,\n\u001b[0;32m    194\u001b[0m     stderr\u001b[38;5;241m=\u001b[39mstderr,\n\u001b[0;32m    195\u001b[0m     cwd\u001b[38;5;241m=\u001b[39mcwd,\n\u001b[0;32m    196\u001b[0m     env\u001b[38;5;241m=\u001b[39menv,\n\u001b[0;32m    197\u001b[0m     startupinfo\u001b[38;5;241m=\u001b[39mstartupinfo,\n\u001b[0;32m    198\u001b[0m     creationflags\u001b[38;5;241m=\u001b[39mcreationflags,\n\u001b[0;32m    199\u001b[0m     start_new_session\u001b[38;5;241m=\u001b[39mstart_new_session,\n\u001b[0;32m    200\u001b[0m     pass_fds\u001b[38;5;241m=\u001b[39mpass_fds,\n\u001b[0;32m    201\u001b[0m     \u001b[38;5;241m*\u001b[39m\u001b[38;5;241m*\u001b[39mkwargs,\n\u001b[0;32m    202\u001b[0m )\n",
      "File \u001b[1;32mc:\\Users\\trist\\OneDrive\\Desktop\\important\\ai_portfolio\\Cortana\\.venv\\Lib\\site-packages\\anyio\\_backends\\_asyncio.py:2561\u001b[0m, in \u001b[0;36mAsyncIOBackend.open_process\u001b[1;34m(cls, command, stdin, stdout, stderr, **kwargs)\u001b[0m\n\u001b[0;32m   2560\u001b[0m \u001b[38;5;28;01melse\u001b[39;00m:\n\u001b[1;32m-> 2561\u001b[0m     process \u001b[38;5;241m=\u001b[39m \u001b[38;5;28;01mawait\u001b[39;00m asyncio\u001b[38;5;241m.\u001b[39mcreate_subprocess_exec(\n\u001b[0;32m   2562\u001b[0m         \u001b[38;5;241m*\u001b[39mcommand,\n\u001b[0;32m   2563\u001b[0m         stdin\u001b[38;5;241m=\u001b[39mstdin,\n\u001b[0;32m   2564\u001b[0m         stdout\u001b[38;5;241m=\u001b[39mstdout,\n\u001b[0;32m   2565\u001b[0m         stderr\u001b[38;5;241m=\u001b[39mstderr,\n\u001b[0;32m   2566\u001b[0m         \u001b[38;5;241m*\u001b[39m\u001b[38;5;241m*\u001b[39mkwargs,\n\u001b[0;32m   2567\u001b[0m     )\n\u001b[0;32m   2569\u001b[0m stdin_stream \u001b[38;5;241m=\u001b[39m StreamWriterWrapper(process\u001b[38;5;241m.\u001b[39mstdin) \u001b[38;5;28;01mif\u001b[39;00m process\u001b[38;5;241m.\u001b[39mstdin \u001b[38;5;28;01melse\u001b[39;00m \u001b[38;5;28;01mNone\u001b[39;00m\n",
      "File \u001b[1;32m~\\AppData\\Local\\Programs\\Python\\Python313\\Lib\\asyncio\\subprocess.py:224\u001b[0m, in \u001b[0;36mcreate_subprocess_exec\u001b[1;34m(program, stdin, stdout, stderr, limit, *args, **kwds)\u001b[0m\n\u001b[0;32m    222\u001b[0m protocol_factory \u001b[38;5;241m=\u001b[39m \u001b[38;5;28;01mlambda\u001b[39;00m: SubprocessStreamProtocol(limit\u001b[38;5;241m=\u001b[39mlimit,\n\u001b[0;32m    223\u001b[0m                                                     loop\u001b[38;5;241m=\u001b[39mloop)\n\u001b[1;32m--> 224\u001b[0m transport, protocol \u001b[38;5;241m=\u001b[39m \u001b[38;5;28;01mawait\u001b[39;00m loop\u001b[38;5;241m.\u001b[39msubprocess_exec(\n\u001b[0;32m    225\u001b[0m     protocol_factory,\n\u001b[0;32m    226\u001b[0m     program, \u001b[38;5;241m*\u001b[39margs,\n\u001b[0;32m    227\u001b[0m     stdin\u001b[38;5;241m=\u001b[39mstdin, stdout\u001b[38;5;241m=\u001b[39mstdout,\n\u001b[0;32m    228\u001b[0m     stderr\u001b[38;5;241m=\u001b[39mstderr, \u001b[38;5;241m*\u001b[39m\u001b[38;5;241m*\u001b[39mkwds)\n\u001b[0;32m    229\u001b[0m \u001b[38;5;28;01mreturn\u001b[39;00m Process(transport, protocol, loop)\n",
      "File \u001b[1;32m~\\AppData\\Local\\Programs\\Python\\Python313\\Lib\\asyncio\\base_events.py:1794\u001b[0m, in \u001b[0;36mBaseEventLoop.subprocess_exec\u001b[1;34m(self, protocol_factory, program, stdin, stdout, stderr, universal_newlines, shell, bufsize, encoding, errors, text, *args, **kwargs)\u001b[0m\n\u001b[0;32m   1793\u001b[0m     \u001b[38;5;28mself\u001b[39m\u001b[38;5;241m.\u001b[39m_log_subprocess(debug_log, stdin, stdout, stderr)\n\u001b[1;32m-> 1794\u001b[0m transport \u001b[38;5;241m=\u001b[39m \u001b[38;5;28;01mawait\u001b[39;00m \u001b[38;5;28mself\u001b[39m\u001b[38;5;241m.\u001b[39m_make_subprocess_transport(\n\u001b[0;32m   1795\u001b[0m     protocol, popen_args, \u001b[38;5;28;01mFalse\u001b[39;00m, stdin, stdout, stderr,\n\u001b[0;32m   1796\u001b[0m     bufsize, \u001b[38;5;241m*\u001b[39m\u001b[38;5;241m*\u001b[39mkwargs)\n\u001b[0;32m   1797\u001b[0m \u001b[38;5;28;01mif\u001b[39;00m \u001b[38;5;28mself\u001b[39m\u001b[38;5;241m.\u001b[39m_debug \u001b[38;5;129;01mand\u001b[39;00m debug_log \u001b[38;5;129;01mis\u001b[39;00m \u001b[38;5;129;01mnot\u001b[39;00m \u001b[38;5;28;01mNone\u001b[39;00m:\n",
      "File \u001b[1;32m~\\AppData\\Local\\Programs\\Python\\Python313\\Lib\\asyncio\\base_events.py:539\u001b[0m, in \u001b[0;36mBaseEventLoop._make_subprocess_transport\u001b[1;34m(self, protocol, args, shell, stdin, stdout, stderr, bufsize, extra, **kwargs)\u001b[0m\n\u001b[0;32m    538\u001b[0m \u001b[38;5;250m\u001b[39m\u001b[38;5;124;03m\"\"\"Create subprocess transport.\"\"\"\u001b[39;00m\n\u001b[1;32m--> 539\u001b[0m \u001b[38;5;28;01mraise\u001b[39;00m \u001b[38;5;167;01mNotImplementedError\u001b[39;00m\n",
      "\u001b[1;31mNotImplementedError\u001b[0m: ",
      "\nDuring handling of the above exception, another exception occurred:\n",
      "\u001b[1;31mNotImplementedError\u001b[0m                       Traceback (most recent call last)",
      "Cell \u001b[1;32mIn[9], line 6\u001b[0m\n\u001b[0;32m      3\u001b[0m agent \u001b[38;5;241m=\u001b[39m TestAgent()\n\u001b[0;32m      5\u001b[0m task \u001b[38;5;241m=\u001b[39m asyncio\u001b[38;5;241m.\u001b[39mcreate_task(agent\u001b[38;5;241m.\u001b[39mchat(\u001b[38;5;124m'\u001b[39m\u001b[38;5;124mhello\u001b[39m\u001b[38;5;124m'\u001b[39m))\n\u001b[1;32m----> 6\u001b[0m \u001b[38;5;28;01mawait\u001b[39;00m task\n",
      "File \u001b[1;32mc:\\Users\\trist\\OneDrive\\Desktop\\important\\ai_portfolio\\mcp-testing\\mcp_test.py:26\u001b[0m, in \u001b[0;36mTestAgent.chat\u001b[1;34m(self, prompt)\u001b[0m\n\u001b[0;32m     25\u001b[0m \u001b[38;5;28;01masync\u001b[39;00m \u001b[38;5;28;01mdef\u001b[39;00m\u001b[38;5;250m \u001b[39m\u001b[38;5;21mchat\u001b[39m(\u001b[38;5;28mself\u001b[39m, prompt):\n\u001b[1;32m---> 26\u001b[0m     \u001b[38;5;28;01masync\u001b[39;00m \u001b[38;5;28;01mwith\u001b[39;00m \u001b[38;5;28mself\u001b[39m\u001b[38;5;241m.\u001b[39magent\u001b[38;5;241m.\u001b[39mrun_mcp_servers():\n\u001b[0;32m     27\u001b[0m         result \u001b[38;5;241m=\u001b[39m \u001b[38;5;28;01mawait\u001b[39;00m \u001b[38;5;28mself\u001b[39m\u001b[38;5;241m.\u001b[39magent\u001b[38;5;241m.\u001b[39mrun(prompt)\n\u001b[0;32m     28\u001b[0m         \u001b[38;5;28;01mreturn\u001b[39;00m result\u001b[38;5;241m.\u001b[39mdata\n",
      "File \u001b[1;32m~\\AppData\\Local\\Programs\\Python\\Python313\\Lib\\contextlib.py:214\u001b[0m, in \u001b[0;36m_AsyncGeneratorContextManager.__aenter__\u001b[1;34m(self)\u001b[0m\n\u001b[0;32m    212\u001b[0m \u001b[38;5;28;01mdel\u001b[39;00m \u001b[38;5;28mself\u001b[39m\u001b[38;5;241m.\u001b[39margs, \u001b[38;5;28mself\u001b[39m\u001b[38;5;241m.\u001b[39mkwds, \u001b[38;5;28mself\u001b[39m\u001b[38;5;241m.\u001b[39mfunc\n\u001b[0;32m    213\u001b[0m \u001b[38;5;28;01mtry\u001b[39;00m:\n\u001b[1;32m--> 214\u001b[0m     \u001b[38;5;28;01mreturn\u001b[39;00m \u001b[38;5;28;01mawait\u001b[39;00m anext(\u001b[38;5;28mself\u001b[39m\u001b[38;5;241m.\u001b[39mgen)\n\u001b[0;32m    215\u001b[0m \u001b[38;5;28;01mexcept\u001b[39;00m \u001b[38;5;167;01mStopAsyncIteration\u001b[39;00m:\n\u001b[0;32m    216\u001b[0m     \u001b[38;5;28;01mraise\u001b[39;00m \u001b[38;5;167;01mRuntimeError\u001b[39;00m(\u001b[38;5;124m\"\u001b[39m\u001b[38;5;124mgenerator didn\u001b[39m\u001b[38;5;124m'\u001b[39m\u001b[38;5;124mt yield\u001b[39m\u001b[38;5;124m\"\u001b[39m) \u001b[38;5;28;01mfrom\u001b[39;00m\u001b[38;5;250m \u001b[39m\u001b[38;5;28;01mNone\u001b[39;00m\n",
      "File \u001b[1;32mc:\\Users\\trist\\OneDrive\\Desktop\\important\\ai_portfolio\\Cortana\\.venv\\Lib\\site-packages\\pydantic_ai\\agent.py:1299\u001b[0m, in \u001b[0;36mAgent.run_mcp_servers\u001b[1;34m(self)\u001b[0m\n\u001b[0;32m   1297\u001b[0m \u001b[38;5;28;01mtry\u001b[39;00m:\n\u001b[0;32m   1298\u001b[0m     \u001b[38;5;28;01mfor\u001b[39;00m mcp_server \u001b[38;5;129;01min\u001b[39;00m \u001b[38;5;28mself\u001b[39m\u001b[38;5;241m.\u001b[39m_mcp_servers:\n\u001b[1;32m-> 1299\u001b[0m         \u001b[38;5;28;01mawait\u001b[39;00m exit_stack\u001b[38;5;241m.\u001b[39menter_async_context(mcp_server)\n\u001b[0;32m   1300\u001b[0m     \u001b[38;5;28;01myield\u001b[39;00m\n\u001b[0;32m   1301\u001b[0m \u001b[38;5;28;01mfinally\u001b[39;00m:\n",
      "File \u001b[1;32m~\\AppData\\Local\\Programs\\Python\\Python313\\Lib\\contextlib.py:668\u001b[0m, in \u001b[0;36mAsyncExitStack.enter_async_context\u001b[1;34m(self, cm)\u001b[0m\n\u001b[0;32m    664\u001b[0m \u001b[38;5;28;01mexcept\u001b[39;00m \u001b[38;5;167;01mAttributeError\u001b[39;00m:\n\u001b[0;32m    665\u001b[0m     \u001b[38;5;28;01mraise\u001b[39;00m \u001b[38;5;167;01mTypeError\u001b[39;00m(\u001b[38;5;124mf\u001b[39m\u001b[38;5;124m\"\u001b[39m\u001b[38;5;124m'\u001b[39m\u001b[38;5;132;01m{\u001b[39;00m\u001b[38;5;28mcls\u001b[39m\u001b[38;5;241m.\u001b[39m\u001b[38;5;18m__module__\u001b[39m\u001b[38;5;132;01m}\u001b[39;00m\u001b[38;5;124m.\u001b[39m\u001b[38;5;132;01m{\u001b[39;00m\u001b[38;5;28mcls\u001b[39m\u001b[38;5;241m.\u001b[39m\u001b[38;5;18m__qualname__\u001b[39m\u001b[38;5;132;01m}\u001b[39;00m\u001b[38;5;124m'\u001b[39m\u001b[38;5;124m object does \u001b[39m\u001b[38;5;124m\"\u001b[39m\n\u001b[0;32m    666\u001b[0m                     \u001b[38;5;124mf\u001b[39m\u001b[38;5;124m\"\u001b[39m\u001b[38;5;124mnot support the asynchronous context manager protocol\u001b[39m\u001b[38;5;124m\"\u001b[39m\n\u001b[0;32m    667\u001b[0m                    ) \u001b[38;5;28;01mfrom\u001b[39;00m\u001b[38;5;250m \u001b[39m\u001b[38;5;28;01mNone\u001b[39;00m\n\u001b[1;32m--> 668\u001b[0m result \u001b[38;5;241m=\u001b[39m \u001b[38;5;28;01mawait\u001b[39;00m _enter(cm)\n\u001b[0;32m    669\u001b[0m \u001b[38;5;28mself\u001b[39m\u001b[38;5;241m.\u001b[39m_push_async_cm_exit(cm, _exit)\n\u001b[0;32m    670\u001b[0m \u001b[38;5;28;01mreturn\u001b[39;00m result\n",
      "File \u001b[1;32mc:\\Users\\trist\\OneDrive\\Desktop\\important\\ai_portfolio\\Cortana\\.venv\\Lib\\site-packages\\pydantic_ai\\mcp.py:86\u001b[0m, in \u001b[0;36mMCPServer.__aenter__\u001b[1;34m(self)\u001b[0m\n\u001b[0;32m     83\u001b[0m \u001b[38;5;28;01masync\u001b[39;00m \u001b[38;5;28;01mdef\u001b[39;00m\u001b[38;5;250m \u001b[39m\u001b[38;5;21m__aenter__\u001b[39m(\u001b[38;5;28mself\u001b[39m) \u001b[38;5;241m-\u001b[39m\u001b[38;5;241m>\u001b[39m Self:\n\u001b[0;32m     84\u001b[0m     \u001b[38;5;28mself\u001b[39m\u001b[38;5;241m.\u001b[39m_exit_stack \u001b[38;5;241m=\u001b[39m AsyncExitStack()\n\u001b[1;32m---> 86\u001b[0m     \u001b[38;5;28mself\u001b[39m\u001b[38;5;241m.\u001b[39m_read_stream, \u001b[38;5;28mself\u001b[39m\u001b[38;5;241m.\u001b[39m_write_stream \u001b[38;5;241m=\u001b[39m \u001b[38;5;28;01mawait\u001b[39;00m \u001b[38;5;28mself\u001b[39m\u001b[38;5;241m.\u001b[39m_exit_stack\u001b[38;5;241m.\u001b[39menter_async_context(\u001b[38;5;28mself\u001b[39m\u001b[38;5;241m.\u001b[39mclient_streams())\n\u001b[0;32m     87\u001b[0m     client \u001b[38;5;241m=\u001b[39m ClientSession(read_stream\u001b[38;5;241m=\u001b[39m\u001b[38;5;28mself\u001b[39m\u001b[38;5;241m.\u001b[39m_read_stream, write_stream\u001b[38;5;241m=\u001b[39m\u001b[38;5;28mself\u001b[39m\u001b[38;5;241m.\u001b[39m_write_stream)\n\u001b[0;32m     88\u001b[0m     \u001b[38;5;28mself\u001b[39m\u001b[38;5;241m.\u001b[39m_client \u001b[38;5;241m=\u001b[39m \u001b[38;5;28;01mawait\u001b[39;00m \u001b[38;5;28mself\u001b[39m\u001b[38;5;241m.\u001b[39m_exit_stack\u001b[38;5;241m.\u001b[39menter_async_context(client)\n",
      "File \u001b[1;32m~\\AppData\\Local\\Programs\\Python\\Python313\\Lib\\contextlib.py:668\u001b[0m, in \u001b[0;36mAsyncExitStack.enter_async_context\u001b[1;34m(self, cm)\u001b[0m\n\u001b[0;32m    664\u001b[0m \u001b[38;5;28;01mexcept\u001b[39;00m \u001b[38;5;167;01mAttributeError\u001b[39;00m:\n\u001b[0;32m    665\u001b[0m     \u001b[38;5;28;01mraise\u001b[39;00m \u001b[38;5;167;01mTypeError\u001b[39;00m(\u001b[38;5;124mf\u001b[39m\u001b[38;5;124m\"\u001b[39m\u001b[38;5;124m'\u001b[39m\u001b[38;5;132;01m{\u001b[39;00m\u001b[38;5;28mcls\u001b[39m\u001b[38;5;241m.\u001b[39m\u001b[38;5;18m__module__\u001b[39m\u001b[38;5;132;01m}\u001b[39;00m\u001b[38;5;124m.\u001b[39m\u001b[38;5;132;01m{\u001b[39;00m\u001b[38;5;28mcls\u001b[39m\u001b[38;5;241m.\u001b[39m\u001b[38;5;18m__qualname__\u001b[39m\u001b[38;5;132;01m}\u001b[39;00m\u001b[38;5;124m'\u001b[39m\u001b[38;5;124m object does \u001b[39m\u001b[38;5;124m\"\u001b[39m\n\u001b[0;32m    666\u001b[0m                     \u001b[38;5;124mf\u001b[39m\u001b[38;5;124m\"\u001b[39m\u001b[38;5;124mnot support the asynchronous context manager protocol\u001b[39m\u001b[38;5;124m\"\u001b[39m\n\u001b[0;32m    667\u001b[0m                    ) \u001b[38;5;28;01mfrom\u001b[39;00m\u001b[38;5;250m \u001b[39m\u001b[38;5;28;01mNone\u001b[39;00m\n\u001b[1;32m--> 668\u001b[0m result \u001b[38;5;241m=\u001b[39m \u001b[38;5;28;01mawait\u001b[39;00m _enter(cm)\n\u001b[0;32m    669\u001b[0m \u001b[38;5;28mself\u001b[39m\u001b[38;5;241m.\u001b[39m_push_async_cm_exit(cm, _exit)\n\u001b[0;32m    670\u001b[0m \u001b[38;5;28;01mreturn\u001b[39;00m result\n",
      "File \u001b[1;32m~\\AppData\\Local\\Programs\\Python\\Python313\\Lib\\contextlib.py:214\u001b[0m, in \u001b[0;36m_AsyncGeneratorContextManager.__aenter__\u001b[1;34m(self)\u001b[0m\n\u001b[0;32m    212\u001b[0m \u001b[38;5;28;01mdel\u001b[39;00m \u001b[38;5;28mself\u001b[39m\u001b[38;5;241m.\u001b[39margs, \u001b[38;5;28mself\u001b[39m\u001b[38;5;241m.\u001b[39mkwds, \u001b[38;5;28mself\u001b[39m\u001b[38;5;241m.\u001b[39mfunc\n\u001b[0;32m    213\u001b[0m \u001b[38;5;28;01mtry\u001b[39;00m:\n\u001b[1;32m--> 214\u001b[0m     \u001b[38;5;28;01mreturn\u001b[39;00m \u001b[38;5;28;01mawait\u001b[39;00m anext(\u001b[38;5;28mself\u001b[39m\u001b[38;5;241m.\u001b[39mgen)\n\u001b[0;32m    215\u001b[0m \u001b[38;5;28;01mexcept\u001b[39;00m \u001b[38;5;167;01mStopAsyncIteration\u001b[39;00m:\n\u001b[0;32m    216\u001b[0m     \u001b[38;5;28;01mraise\u001b[39;00m \u001b[38;5;167;01mRuntimeError\u001b[39;00m(\u001b[38;5;124m\"\u001b[39m\u001b[38;5;124mgenerator didn\u001b[39m\u001b[38;5;124m'\u001b[39m\u001b[38;5;124mt yield\u001b[39m\u001b[38;5;124m\"\u001b[39m) \u001b[38;5;28;01mfrom\u001b[39;00m\u001b[38;5;250m \u001b[39m\u001b[38;5;28;01mNone\u001b[39;00m\n",
      "File \u001b[1;32mc:\\Users\\trist\\OneDrive\\Desktop\\important\\ai_portfolio\\Cortana\\.venv\\Lib\\site-packages\\pydantic_ai\\mcp.py:160\u001b[0m, in \u001b[0;36mMCPServerStdio.client_streams\u001b[1;34m(self)\u001b[0m\n\u001b[0;32m    153\u001b[0m \u001b[38;5;129m@asynccontextmanager\u001b[39m\n\u001b[0;32m    154\u001b[0m \u001b[38;5;28;01masync\u001b[39;00m \u001b[38;5;28;01mdef\u001b[39;00m\u001b[38;5;250m \u001b[39m\u001b[38;5;21mclient_streams\u001b[39m(\n\u001b[0;32m    155\u001b[0m     \u001b[38;5;28mself\u001b[39m,\n\u001b[0;32m    156\u001b[0m ) \u001b[38;5;241m-\u001b[39m\u001b[38;5;241m>\u001b[39m AsyncIterator[\n\u001b[0;32m    157\u001b[0m     \u001b[38;5;28mtuple\u001b[39m[MemoryObjectReceiveStream[JSONRPCMessage \u001b[38;5;241m|\u001b[39m \u001b[38;5;167;01mException\u001b[39;00m], MemoryObjectSendStream[JSONRPCMessage]]\n\u001b[0;32m    158\u001b[0m ]:\n\u001b[0;32m    159\u001b[0m     server \u001b[38;5;241m=\u001b[39m StdioServerParameters(command\u001b[38;5;241m=\u001b[39m\u001b[38;5;28mself\u001b[39m\u001b[38;5;241m.\u001b[39mcommand, args\u001b[38;5;241m=\u001b[39m\u001b[38;5;28mlist\u001b[39m(\u001b[38;5;28mself\u001b[39m\u001b[38;5;241m.\u001b[39margs), env\u001b[38;5;241m=\u001b[39m\u001b[38;5;28mself\u001b[39m\u001b[38;5;241m.\u001b[39menv)\n\u001b[1;32m--> 160\u001b[0m     \u001b[38;5;28;01masync\u001b[39;00m \u001b[38;5;28;01mwith\u001b[39;00m stdio_client(server\u001b[38;5;241m=\u001b[39mserver) \u001b[38;5;28;01mas\u001b[39;00m (read_stream, write_stream):\n\u001b[0;32m    161\u001b[0m         \u001b[38;5;28;01myield\u001b[39;00m read_stream, write_stream\n",
      "File \u001b[1;32m~\\AppData\\Local\\Programs\\Python\\Python313\\Lib\\contextlib.py:214\u001b[0m, in \u001b[0;36m_AsyncGeneratorContextManager.__aenter__\u001b[1;34m(self)\u001b[0m\n\u001b[0;32m    212\u001b[0m \u001b[38;5;28;01mdel\u001b[39;00m \u001b[38;5;28mself\u001b[39m\u001b[38;5;241m.\u001b[39margs, \u001b[38;5;28mself\u001b[39m\u001b[38;5;241m.\u001b[39mkwds, \u001b[38;5;28mself\u001b[39m\u001b[38;5;241m.\u001b[39mfunc\n\u001b[0;32m    213\u001b[0m \u001b[38;5;28;01mtry\u001b[39;00m:\n\u001b[1;32m--> 214\u001b[0m     \u001b[38;5;28;01mreturn\u001b[39;00m \u001b[38;5;28;01mawait\u001b[39;00m anext(\u001b[38;5;28mself\u001b[39m\u001b[38;5;241m.\u001b[39mgen)\n\u001b[0;32m    215\u001b[0m \u001b[38;5;28;01mexcept\u001b[39;00m \u001b[38;5;167;01mStopAsyncIteration\u001b[39;00m:\n\u001b[0;32m    216\u001b[0m     \u001b[38;5;28;01mraise\u001b[39;00m \u001b[38;5;167;01mRuntimeError\u001b[39;00m(\u001b[38;5;124m\"\u001b[39m\u001b[38;5;124mgenerator didn\u001b[39m\u001b[38;5;124m'\u001b[39m\u001b[38;5;124mt yield\u001b[39m\u001b[38;5;124m\"\u001b[39m) \u001b[38;5;28;01mfrom\u001b[39;00m\u001b[38;5;250m \u001b[39m\u001b[38;5;28;01mNone\u001b[39;00m\n",
      "File \u001b[1;32mc:\\Users\\trist\\OneDrive\\Desktop\\important\\ai_portfolio\\Cortana\\.venv\\Lib\\site-packages\\mcp\\client\\stdio\\__init__.py:113\u001b[0m, in \u001b[0;36mstdio_client\u001b[1;34m(server, errlog)\u001b[0m\n\u001b[0;32m    110\u001b[0m command \u001b[38;5;241m=\u001b[39m _get_executable_command(server\u001b[38;5;241m.\u001b[39mcommand)\n\u001b[0;32m    112\u001b[0m \u001b[38;5;66;03m# Open process with stderr piped for capture\u001b[39;00m\n\u001b[1;32m--> 113\u001b[0m process \u001b[38;5;241m=\u001b[39m \u001b[38;5;28;01mawait\u001b[39;00m _create_platform_compatible_process(\n\u001b[0;32m    114\u001b[0m     command\u001b[38;5;241m=\u001b[39mcommand,\n\u001b[0;32m    115\u001b[0m     args\u001b[38;5;241m=\u001b[39mserver\u001b[38;5;241m.\u001b[39margs,\n\u001b[0;32m    116\u001b[0m     env\u001b[38;5;241m=\u001b[39m(\n\u001b[0;32m    117\u001b[0m         {\u001b[38;5;241m*\u001b[39m\u001b[38;5;241m*\u001b[39mget_default_environment(), \u001b[38;5;241m*\u001b[39m\u001b[38;5;241m*\u001b[39mserver\u001b[38;5;241m.\u001b[39menv}\n\u001b[0;32m    118\u001b[0m         \u001b[38;5;28;01mif\u001b[39;00m server\u001b[38;5;241m.\u001b[39menv \u001b[38;5;129;01mis\u001b[39;00m \u001b[38;5;129;01mnot\u001b[39;00m \u001b[38;5;28;01mNone\u001b[39;00m\n\u001b[0;32m    119\u001b[0m         \u001b[38;5;28;01melse\u001b[39;00m get_default_environment()\n\u001b[0;32m    120\u001b[0m     ),\n\u001b[0;32m    121\u001b[0m     errlog\u001b[38;5;241m=\u001b[39merrlog,\n\u001b[0;32m    122\u001b[0m     cwd\u001b[38;5;241m=\u001b[39mserver\u001b[38;5;241m.\u001b[39mcwd,\n\u001b[0;32m    123\u001b[0m )\n\u001b[0;32m    125\u001b[0m \u001b[38;5;28;01masync\u001b[39;00m \u001b[38;5;28;01mdef\u001b[39;00m\u001b[38;5;250m \u001b[39m\u001b[38;5;21mstdout_reader\u001b[39m():\n\u001b[0;32m    126\u001b[0m     \u001b[38;5;28;01massert\u001b[39;00m process\u001b[38;5;241m.\u001b[39mstdout, \u001b[38;5;124m\"\u001b[39m\u001b[38;5;124mOpened process is missing stdout\u001b[39m\u001b[38;5;124m\"\u001b[39m\n",
      "File \u001b[1;32mc:\\Users\\trist\\OneDrive\\Desktop\\important\\ai_portfolio\\Cortana\\.venv\\Lib\\site-packages\\mcp\\client\\stdio\\__init__.py:210\u001b[0m, in \u001b[0;36m_create_platform_compatible_process\u001b[1;34m(command, args, env, errlog, cwd)\u001b[0m\n\u001b[0;32m    205\u001b[0m \u001b[38;5;250m\u001b[39m\u001b[38;5;124;03m\"\"\"\u001b[39;00m\n\u001b[0;32m    206\u001b[0m \u001b[38;5;124;03mCreates a subprocess in a platform-compatible way.\u001b[39;00m\n\u001b[0;32m    207\u001b[0m \u001b[38;5;124;03mReturns a process handle.\u001b[39;00m\n\u001b[0;32m    208\u001b[0m \u001b[38;5;124;03m\"\"\"\u001b[39;00m\n\u001b[0;32m    209\u001b[0m \u001b[38;5;28;01mif\u001b[39;00m sys\u001b[38;5;241m.\u001b[39mplatform \u001b[38;5;241m==\u001b[39m \u001b[38;5;124m\"\u001b[39m\u001b[38;5;124mwin32\u001b[39m\u001b[38;5;124m\"\u001b[39m:\n\u001b[1;32m--> 210\u001b[0m     process \u001b[38;5;241m=\u001b[39m \u001b[38;5;28;01mawait\u001b[39;00m create_windows_process(command, args, env, errlog, cwd)\n\u001b[0;32m    211\u001b[0m \u001b[38;5;28;01melse\u001b[39;00m:\n\u001b[0;32m    212\u001b[0m     process \u001b[38;5;241m=\u001b[39m \u001b[38;5;28;01mawait\u001b[39;00m anyio\u001b[38;5;241m.\u001b[39mopen_process(\n\u001b[0;32m    213\u001b[0m         [command, \u001b[38;5;241m*\u001b[39margs], env\u001b[38;5;241m=\u001b[39menv, stderr\u001b[38;5;241m=\u001b[39merrlog, cwd\u001b[38;5;241m=\u001b[39mcwd\n\u001b[0;32m    214\u001b[0m     )\n",
      "File \u001b[1;32mc:\\Users\\trist\\OneDrive\\Desktop\\important\\ai_portfolio\\Cortana\\.venv\\Lib\\site-packages\\mcp\\client\\stdio\\win32.py:85\u001b[0m, in \u001b[0;36mcreate_windows_process\u001b[1;34m(command, args, env, errlog, cwd)\u001b[0m\n\u001b[0;32m     82\u001b[0m     \u001b[38;5;28;01mreturn\u001b[39;00m process\n\u001b[0;32m     83\u001b[0m \u001b[38;5;28;01mexcept\u001b[39;00m \u001b[38;5;167;01mException\u001b[39;00m:\n\u001b[0;32m     84\u001b[0m     \u001b[38;5;66;03m# Don't raise, let's try to create the process without creation flags\u001b[39;00m\n\u001b[1;32m---> 85\u001b[0m     process \u001b[38;5;241m=\u001b[39m \u001b[38;5;28;01mawait\u001b[39;00m anyio\u001b[38;5;241m.\u001b[39mopen_process(\n\u001b[0;32m     86\u001b[0m         [command, \u001b[38;5;241m*\u001b[39margs], env\u001b[38;5;241m=\u001b[39menv, stderr\u001b[38;5;241m=\u001b[39merrlog, cwd\u001b[38;5;241m=\u001b[39mcwd\n\u001b[0;32m     87\u001b[0m     )\n\u001b[0;32m     88\u001b[0m     \u001b[38;5;28;01mreturn\u001b[39;00m process\n",
      "File \u001b[1;32mc:\\Users\\trist\\OneDrive\\Desktop\\important\\ai_portfolio\\Cortana\\.venv\\Lib\\site-packages\\anyio\\_core\\_subprocesses.py:190\u001b[0m, in \u001b[0;36mopen_process\u001b[1;34m(command, stdin, stdout, stderr, cwd, env, startupinfo, creationflags, start_new_session, pass_fds, user, group, extra_groups, umask)\u001b[0m\n\u001b[0;32m    187\u001b[0m \u001b[38;5;28;01mif\u001b[39;00m umask \u001b[38;5;241m>\u001b[39m\u001b[38;5;241m=\u001b[39m \u001b[38;5;241m0\u001b[39m:\n\u001b[0;32m    188\u001b[0m     kwargs[\u001b[38;5;124m\"\u001b[39m\u001b[38;5;124mumask\u001b[39m\u001b[38;5;124m\"\u001b[39m] \u001b[38;5;241m=\u001b[39m umask\n\u001b[1;32m--> 190\u001b[0m \u001b[38;5;28;01mreturn\u001b[39;00m \u001b[38;5;28;01mawait\u001b[39;00m get_async_backend()\u001b[38;5;241m.\u001b[39mopen_process(\n\u001b[0;32m    191\u001b[0m     command,\n\u001b[0;32m    192\u001b[0m     stdin\u001b[38;5;241m=\u001b[39mstdin,\n\u001b[0;32m    193\u001b[0m     stdout\u001b[38;5;241m=\u001b[39mstdout,\n\u001b[0;32m    194\u001b[0m     stderr\u001b[38;5;241m=\u001b[39mstderr,\n\u001b[0;32m    195\u001b[0m     cwd\u001b[38;5;241m=\u001b[39mcwd,\n\u001b[0;32m    196\u001b[0m     env\u001b[38;5;241m=\u001b[39menv,\n\u001b[0;32m    197\u001b[0m     startupinfo\u001b[38;5;241m=\u001b[39mstartupinfo,\n\u001b[0;32m    198\u001b[0m     creationflags\u001b[38;5;241m=\u001b[39mcreationflags,\n\u001b[0;32m    199\u001b[0m     start_new_session\u001b[38;5;241m=\u001b[39mstart_new_session,\n\u001b[0;32m    200\u001b[0m     pass_fds\u001b[38;5;241m=\u001b[39mpass_fds,\n\u001b[0;32m    201\u001b[0m     \u001b[38;5;241m*\u001b[39m\u001b[38;5;241m*\u001b[39mkwargs,\n\u001b[0;32m    202\u001b[0m )\n",
      "File \u001b[1;32mc:\\Users\\trist\\OneDrive\\Desktop\\important\\ai_portfolio\\Cortana\\.venv\\Lib\\site-packages\\anyio\\_backends\\_asyncio.py:2561\u001b[0m, in \u001b[0;36mAsyncIOBackend.open_process\u001b[1;34m(cls, command, stdin, stdout, stderr, **kwargs)\u001b[0m\n\u001b[0;32m   2553\u001b[0m     process \u001b[38;5;241m=\u001b[39m \u001b[38;5;28;01mawait\u001b[39;00m asyncio\u001b[38;5;241m.\u001b[39mcreate_subprocess_shell(\n\u001b[0;32m   2554\u001b[0m         command,\n\u001b[0;32m   2555\u001b[0m         stdin\u001b[38;5;241m=\u001b[39mstdin,\n\u001b[1;32m   (...)\u001b[0m\n\u001b[0;32m   2558\u001b[0m         \u001b[38;5;241m*\u001b[39m\u001b[38;5;241m*\u001b[39mkwargs,\n\u001b[0;32m   2559\u001b[0m     )\n\u001b[0;32m   2560\u001b[0m \u001b[38;5;28;01melse\u001b[39;00m:\n\u001b[1;32m-> 2561\u001b[0m     process \u001b[38;5;241m=\u001b[39m \u001b[38;5;28;01mawait\u001b[39;00m asyncio\u001b[38;5;241m.\u001b[39mcreate_subprocess_exec(\n\u001b[0;32m   2562\u001b[0m         \u001b[38;5;241m*\u001b[39mcommand,\n\u001b[0;32m   2563\u001b[0m         stdin\u001b[38;5;241m=\u001b[39mstdin,\n\u001b[0;32m   2564\u001b[0m         stdout\u001b[38;5;241m=\u001b[39mstdout,\n\u001b[0;32m   2565\u001b[0m         stderr\u001b[38;5;241m=\u001b[39mstderr,\n\u001b[0;32m   2566\u001b[0m         \u001b[38;5;241m*\u001b[39m\u001b[38;5;241m*\u001b[39mkwargs,\n\u001b[0;32m   2567\u001b[0m     )\n\u001b[0;32m   2569\u001b[0m stdin_stream \u001b[38;5;241m=\u001b[39m StreamWriterWrapper(process\u001b[38;5;241m.\u001b[39mstdin) \u001b[38;5;28;01mif\u001b[39;00m process\u001b[38;5;241m.\u001b[39mstdin \u001b[38;5;28;01melse\u001b[39;00m \u001b[38;5;28;01mNone\u001b[39;00m\n\u001b[0;32m   2570\u001b[0m stdout_stream \u001b[38;5;241m=\u001b[39m StreamReaderWrapper(process\u001b[38;5;241m.\u001b[39mstdout) \u001b[38;5;28;01mif\u001b[39;00m process\u001b[38;5;241m.\u001b[39mstdout \u001b[38;5;28;01melse\u001b[39;00m \u001b[38;5;28;01mNone\u001b[39;00m\n",
      "File \u001b[1;32m~\\AppData\\Local\\Programs\\Python\\Python313\\Lib\\asyncio\\subprocess.py:224\u001b[0m, in \u001b[0;36mcreate_subprocess_exec\u001b[1;34m(program, stdin, stdout, stderr, limit, *args, **kwds)\u001b[0m\n\u001b[0;32m    221\u001b[0m loop \u001b[38;5;241m=\u001b[39m events\u001b[38;5;241m.\u001b[39mget_running_loop()\n\u001b[0;32m    222\u001b[0m protocol_factory \u001b[38;5;241m=\u001b[39m \u001b[38;5;28;01mlambda\u001b[39;00m: SubprocessStreamProtocol(limit\u001b[38;5;241m=\u001b[39mlimit,\n\u001b[0;32m    223\u001b[0m                                                     loop\u001b[38;5;241m=\u001b[39mloop)\n\u001b[1;32m--> 224\u001b[0m transport, protocol \u001b[38;5;241m=\u001b[39m \u001b[38;5;28;01mawait\u001b[39;00m loop\u001b[38;5;241m.\u001b[39msubprocess_exec(\n\u001b[0;32m    225\u001b[0m     protocol_factory,\n\u001b[0;32m    226\u001b[0m     program, \u001b[38;5;241m*\u001b[39margs,\n\u001b[0;32m    227\u001b[0m     stdin\u001b[38;5;241m=\u001b[39mstdin, stdout\u001b[38;5;241m=\u001b[39mstdout,\n\u001b[0;32m    228\u001b[0m     stderr\u001b[38;5;241m=\u001b[39mstderr, \u001b[38;5;241m*\u001b[39m\u001b[38;5;241m*\u001b[39mkwds)\n\u001b[0;32m    229\u001b[0m \u001b[38;5;28;01mreturn\u001b[39;00m Process(transport, protocol, loop)\n",
      "File \u001b[1;32m~\\AppData\\Local\\Programs\\Python\\Python313\\Lib\\asyncio\\base_events.py:1794\u001b[0m, in \u001b[0;36mBaseEventLoop.subprocess_exec\u001b[1;34m(self, protocol_factory, program, stdin, stdout, stderr, universal_newlines, shell, bufsize, encoding, errors, text, *args, **kwargs)\u001b[0m\n\u001b[0;32m   1792\u001b[0m     debug_log \u001b[38;5;241m=\u001b[39m \u001b[38;5;124mf\u001b[39m\u001b[38;5;124m'\u001b[39m\u001b[38;5;124mexecute program \u001b[39m\u001b[38;5;132;01m{\u001b[39;00mprogram\u001b[38;5;132;01m!r}\u001b[39;00m\u001b[38;5;124m'\u001b[39m\n\u001b[0;32m   1793\u001b[0m     \u001b[38;5;28mself\u001b[39m\u001b[38;5;241m.\u001b[39m_log_subprocess(debug_log, stdin, stdout, stderr)\n\u001b[1;32m-> 1794\u001b[0m transport \u001b[38;5;241m=\u001b[39m \u001b[38;5;28;01mawait\u001b[39;00m \u001b[38;5;28mself\u001b[39m\u001b[38;5;241m.\u001b[39m_make_subprocess_transport(\n\u001b[0;32m   1795\u001b[0m     protocol, popen_args, \u001b[38;5;28;01mFalse\u001b[39;00m, stdin, stdout, stderr,\n\u001b[0;32m   1796\u001b[0m     bufsize, \u001b[38;5;241m*\u001b[39m\u001b[38;5;241m*\u001b[39mkwargs)\n\u001b[0;32m   1797\u001b[0m \u001b[38;5;28;01mif\u001b[39;00m \u001b[38;5;28mself\u001b[39m\u001b[38;5;241m.\u001b[39m_debug \u001b[38;5;129;01mand\u001b[39;00m debug_log \u001b[38;5;129;01mis\u001b[39;00m \u001b[38;5;129;01mnot\u001b[39;00m \u001b[38;5;28;01mNone\u001b[39;00m:\n\u001b[0;32m   1798\u001b[0m     logger\u001b[38;5;241m.\u001b[39minfo(\u001b[38;5;124m'\u001b[39m\u001b[38;5;132;01m%s\u001b[39;00m\u001b[38;5;124m: \u001b[39m\u001b[38;5;132;01m%r\u001b[39;00m\u001b[38;5;124m'\u001b[39m, debug_log, transport)\n",
      "File \u001b[1;32m~\\AppData\\Local\\Programs\\Python\\Python313\\Lib\\asyncio\\base_events.py:539\u001b[0m, in \u001b[0;36mBaseEventLoop._make_subprocess_transport\u001b[1;34m(self, protocol, args, shell, stdin, stdout, stderr, bufsize, extra, **kwargs)\u001b[0m\n\u001b[0;32m    535\u001b[0m \u001b[38;5;28;01masync\u001b[39;00m \u001b[38;5;28;01mdef\u001b[39;00m\u001b[38;5;250m \u001b[39m\u001b[38;5;21m_make_subprocess_transport\u001b[39m(\u001b[38;5;28mself\u001b[39m, protocol, args, shell,\n\u001b[0;32m    536\u001b[0m                                      stdin, stdout, stderr, bufsize,\n\u001b[0;32m    537\u001b[0m                                      extra\u001b[38;5;241m=\u001b[39m\u001b[38;5;28;01mNone\u001b[39;00m, \u001b[38;5;241m*\u001b[39m\u001b[38;5;241m*\u001b[39mkwargs):\n\u001b[0;32m    538\u001b[0m \u001b[38;5;250m    \u001b[39m\u001b[38;5;124;03m\"\"\"Create subprocess transport.\"\"\"\u001b[39;00m\n\u001b[1;32m--> 539\u001b[0m     \u001b[38;5;28;01mraise\u001b[39;00m \u001b[38;5;167;01mNotImplementedError\u001b[39;00m\n",
      "\u001b[1;31mNotImplementedError\u001b[0m: "
     ]
    }
   ],
   "source": [
    "from mcp_test import TestAgent\n",
    "import asyncio\n",
    "agent = TestAgent()\n",
    "\n",
    "task = asyncio.create_task(agent.chat('hello'))\n",
    "await task"
   ]
  },
  {
   "cell_type": "code",
   "execution_count": null,
   "metadata": {},
   "outputs": [],
   "source": [
    "api_keys={'openai_api_key':os.getenv('openai_api_key')}"
   ]
  },
  {
   "cell_type": "code",
   "execution_count": null,
   "metadata": {},
   "outputs": [],
   "source": [
    "from pydantic_ai.mcp import MCPServerStreamableHTTP\n",
    "from pydantic_ai.models.openai import OpenAIModel\n",
    "from pydantic_ai.providers.openai import OpenAIProvider\n",
    "from pydantic_ai import Agent\n",
    "from pydantic_ai.messages import ModelMessage\n",
    "from dataclasses import dataclass\n",
    "\n",
    "from pydantic_ai.mcp import MCPServerStreamableHTTP, MCPServerSSE, MCPServerStdio\n",
    "from pydantic_ai.models.openai import OpenAIModel\n",
    "from pydantic_ai.providers.openai import OpenAIProvider\n",
    "from pydantic_ai import Agent\n",
    "from pydantic_ai.messages import ModelMessage\n",
    "from dataclasses import dataclass\n",
    "\n",
    "@dataclass\n",
    "class Message_state:\n",
    "    messages:list[ModelMessage]\n",
    "\n",
    "class agent_MCP:\n",
    "    def __init__(self, mcp_server_url:str, api_keys:dict):\n",
    "        self.mcp_server_url=mcp_server_url\n",
    "        self.api_keys=api_keys\n",
    "\n",
    "        self.memory=Message_state(messages=[])\n",
    "        self.llm=OpenAIModel('gpt-4.1-mini',provider=OpenAIProvider(api_key=api_keys['openai_api_key']))\n",
    "        self.mcp_server=MCPServerStreamableHTTP(self.mcp_server_url)\n",
    "        self.agent=Agent(self.llm, mcp_servers=[self.mcp_server])\n",
    "        self._mcp_context_manager = None\n",
    "        self._is_connected = False\n",
    "\n",
    "    async def connect(self):\n",
    "        \"\"\"Establish persistent connection to MCP server\"\"\"\n",
    "        if not self._is_connected:\n",
    "            self._mcp_context_manager = self.agent.run_mcp_servers()\n",
    "            await self._mcp_context_manager.__aenter__()\n",
    "            self._is_connected = True\n",
    "            print(\"Connected to MCP server\")\n",
    "\n",
    "    async def disconnect(self):\n",
    "        \"\"\"Close the MCP server connection\"\"\"\n",
    "        if self._is_connected and self._mcp_context_manager:\n",
    "            await self._mcp_context_manager.__aexit__(None, None, None)\n",
    "            self._is_connected = False\n",
    "            self._mcp_context_manager = None\n",
    "            print(\"Disconnected from MCP server\")\n",
    "    \n",
    "    async def chat(self, query: str):\n",
    "        \"\"\"Execute query using persistent MCP connection\"\"\"\n",
    "        if not self._is_connected:\n",
    "            await self.connect()\n",
    "        \n",
    "        result = self.agent.run_sync(query, message_history=self.memory.messages)\n",
    "        self.memory.messages = result.all_messages()\n",
    "        return result.output\n",
    "\n",
    "    def reset(self):\n",
    "        \"\"\"Reset conversation memory\"\"\"\n",
    "        self.memory.messages = []\n",
    "\n",
    "    async def __aenter__(self):\n",
    "        \"\"\"Async context manager entry\"\"\"\n",
    "        await self.connect()\n",
    "        return self\n",
    "\n",
    "    async def __aexit__(self, exc_type, exc_val, exc_tb):\n",
    "        \"\"\"Async context manager exit\"\"\"\n",
    "        await self.disconnect()"
   ]
  },
  {
   "cell_type": "code",
   "execution_count": null,
   "metadata": {},
   "outputs": [],
   "source": [
    "agent2=agent_MCP(mcp_server_url='mpc url', api_keys=api_keys)\n"
   ]
  },
  {
   "cell_type": "code",
   "execution_count": null,
   "metadata": {},
   "outputs": [],
   "source": [
    "await agent2.connect()  # Connect once\n",
    "result1 = await agent2.chat(\"Hello, what can you help me with?\")\n",
    "print(\"Result 1:\", result1)"
   ]
  }
 ],
 "metadata": {
  "kernelspec": {
   "display_name": ".venv",
   "language": "python",
   "name": "python3"
  },
  "language_info": {
   "codemirror_mode": {
    "name": "ipython",
    "version": 3
   },
   "file_extension": ".py",
   "mimetype": "text/x-python",
   "name": "python",
   "nbconvert_exporter": "python",
   "pygments_lexer": "ipython3",
   "version": "3.13.2"
  }
 },
 "nbformat": 4,
 "nbformat_minor": 2
}
